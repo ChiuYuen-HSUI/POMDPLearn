{
 "cells": [
  {
   "cell_type": "code",
   "execution_count": 1,
   "metadata": {},
   "outputs": [],
   "source": [
    "import numpy as np\n",
    "import pandas as pd\n",
    "import sys\n",
    "sys.path\n",
    "sys.path.append('./scripts/')\n",
    "import POMDPLearn as pom"
   ]
  },
  {
   "cell_type": "markdown",
   "metadata": {},
   "source": [
    "# Import dataset\n",
    "\n",
    "- split into train test dataset"
   ]
  },
  {
   "cell_type": "code",
   "execution_count": 2,
   "metadata": {},
   "outputs": [],
   "source": [
    "df_POMDP = pd.read_csv('./Datasets/POMDP_train_test.csv')"
   ]
  },
  {
   "cell_type": "code",
   "execution_count": 4,
   "metadata": {},
   "outputs": [
    {
     "name": "stdout",
     "output_type": "stream",
     "text": [
      "StratifiedShuffleSplit(n_splits=1, random_state=0, test_size=0.33,\n",
      "            train_size=None)\n"
     ]
    }
   ],
   "source": [
    "from sklearn.model_selection import StratifiedShuffleSplit\n",
    "X = df_POMDP.values\n",
    "y = df_POMDP.medication\n",
    "sss = StratifiedShuffleSplit(n_splits=1, test_size=0.33, random_state=0)\n",
    "sss.get_n_splits(X, y)\n",
    "\n",
    "print(sss)       \n",
    "\n",
    "for train_index, test_index in sss.split(X, y):\n",
    "    #print(\"TRAIN:\", train_index, \"TEST:\", test_index)\n",
    "    dfTrain, dfTest = df_POMDP.iloc[train_index].copy(), df_POMDP.iloc[test_index].copy()"
   ]
  },
  {
   "cell_type": "code",
   "execution_count": 5,
   "metadata": {},
   "outputs": [
    {
     "data": {
      "text/html": [
       "<div>\n",
       "<style scoped>\n",
       "    .dataframe tbody tr th:only-of-type {\n",
       "        vertical-align: middle;\n",
       "    }\n",
       "\n",
       "    .dataframe tbody tr th {\n",
       "        vertical-align: top;\n",
       "    }\n",
       "\n",
       "    .dataframe thead th {\n",
       "        text-align: right;\n",
       "    }\n",
       "</style>\n",
       "<table border=\"1\" class=\"dataframe\">\n",
       "  <thead>\n",
       "    <tr style=\"text-align: right;\">\n",
       "      <th></th>\n",
       "      <th>medication</th>\n",
       "      <th>state0</th>\n",
       "      <th>state1</th>\n",
       "      <th>state2</th>\n",
       "      <th>state3</th>\n",
       "      <th>state4</th>\n",
       "      <th>state5</th>\n",
       "      <th>state6</th>\n",
       "      <th>state7</th>\n",
       "      <th>state8</th>\n",
       "      <th>...</th>\n",
       "      <th>obs_lat_14</th>\n",
       "      <th>obs_lat_15</th>\n",
       "      <th>obs_lat_16</th>\n",
       "      <th>obs_lat_17</th>\n",
       "      <th>obs_lat_18</th>\n",
       "      <th>obs_lat_19</th>\n",
       "      <th>age</th>\n",
       "      <th>Gender</th>\n",
       "      <th>Parkinsons</th>\n",
       "      <th>Tremors</th>\n",
       "    </tr>\n",
       "  </thead>\n",
       "  <tbody>\n",
       "    <tr>\n",
       "      <th>257</th>\n",
       "      <td>1</td>\n",
       "      <td>0</td>\n",
       "      <td>0</td>\n",
       "      <td>0</td>\n",
       "      <td>0</td>\n",
       "      <td>0</td>\n",
       "      <td>0</td>\n",
       "      <td>0</td>\n",
       "      <td>0</td>\n",
       "      <td>0</td>\n",
       "      <td>...</td>\n",
       "      <td>6</td>\n",
       "      <td>0</td>\n",
       "      <td>6</td>\n",
       "      <td>0</td>\n",
       "      <td>6</td>\n",
       "      <td>0</td>\n",
       "      <td>48</td>\n",
       "      <td>0</td>\n",
       "      <td>1</td>\n",
       "      <td>1</td>\n",
       "    </tr>\n",
       "    <tr>\n",
       "      <th>217</th>\n",
       "      <td>1</td>\n",
       "      <td>0</td>\n",
       "      <td>0</td>\n",
       "      <td>0</td>\n",
       "      <td>0</td>\n",
       "      <td>0</td>\n",
       "      <td>0</td>\n",
       "      <td>0</td>\n",
       "      <td>0</td>\n",
       "      <td>0</td>\n",
       "      <td>...</td>\n",
       "      <td>6</td>\n",
       "      <td>4</td>\n",
       "      <td>6</td>\n",
       "      <td>4</td>\n",
       "      <td>5</td>\n",
       "      <td>0</td>\n",
       "      <td>48</td>\n",
       "      <td>0</td>\n",
       "      <td>1</td>\n",
       "      <td>0</td>\n",
       "    </tr>\n",
       "    <tr>\n",
       "      <th>64</th>\n",
       "      <td>1</td>\n",
       "      <td>0</td>\n",
       "      <td>0</td>\n",
       "      <td>0</td>\n",
       "      <td>0</td>\n",
       "      <td>0</td>\n",
       "      <td>0</td>\n",
       "      <td>0</td>\n",
       "      <td>0</td>\n",
       "      <td>0</td>\n",
       "      <td>...</td>\n",
       "      <td>4</td>\n",
       "      <td>3</td>\n",
       "      <td>6</td>\n",
       "      <td>0</td>\n",
       "      <td>0</td>\n",
       "      <td>2</td>\n",
       "      <td>48</td>\n",
       "      <td>0</td>\n",
       "      <td>0</td>\n",
       "      <td>0</td>\n",
       "    </tr>\n",
       "  </tbody>\n",
       "</table>\n",
       "<p>3 rows × 65 columns</p>\n",
       "</div>"
      ],
      "text/plain": [
       "     medication  state0  state1  state2  state3  state4  state5  state6  \\\n",
       "257           1       0       0       0       0       0       0       0   \n",
       "217           1       0       0       0       0       0       0       0   \n",
       "64            1       0       0       0       0       0       0       0   \n",
       "\n",
       "     state7  state8  ...  obs_lat_14  obs_lat_15  obs_lat_16  obs_lat_17  \\\n",
       "257       0       0  ...           6           0           6           0   \n",
       "217       0       0  ...           6           4           6           4   \n",
       "64        0       0  ...           4           3           6           0   \n",
       "\n",
       "     obs_lat_18  obs_lat_19  age  Gender  Parkinsons  Tremors  \n",
       "257           6           0   48       0           1        1  \n",
       "217           5           0   48       0           1        0  \n",
       "64            0           2   48       0           0        0  \n",
       "\n",
       "[3 rows x 65 columns]"
      ]
     },
     "execution_count": 5,
     "metadata": {},
     "output_type": "execute_result"
    }
   ],
   "source": [
    "dfTest.head(3)"
   ]
  },
  {
   "cell_type": "code",
   "execution_count": 6,
   "metadata": {},
   "outputs": [
    {
     "name": "stderr",
     "output_type": "stream",
     "text": [
      "196it [00:00, 51528.37it/s]\n",
      "196it [00:00, 128050.40it/s]\n",
      "98it [00:00, 68166.13it/s]\n",
      "98it [00:00, 93418.59it/s]\n"
     ]
    }
   ],
   "source": [
    "pomdp_train_dataset = pom.POMDPDataset(dfTrain)\n",
    "pomdp_test_dataset = pom.POMDPDataset(dfTest)"
   ]
  },
  {
   "cell_type": "markdown",
   "metadata": {},
   "source": [
    "## POMDP dataset\n",
    "\n",
    "- training a pomdp model using the training dataset \n",
    "- testing a pomdp model using the testing dataset"
   ]
  },
  {
   "cell_type": "code",
   "execution_count": 8,
   "metadata": {},
   "outputs": [],
   "source": [
    "pomdpPark = pom.POMDP(states=pomdp_train_dataset.unique_states,\n",
    "                      actions=pomdp_train_dataset.unique_actions,\n",
    "                      observations=pomdp_train_dataset.unique_observations,\n",
    "                      rewards=None,T=None, discount=0.9,\n",
    "                      horizon=pomdp_train_dataset.horizon,\n",
    "                      action_invariant=True)"
   ]
  },
  {
   "cell_type": "code",
   "execution_count": 9,
   "metadata": {},
   "outputs": [
    {
     "name": "stdout",
     "output_type": "stream",
     "text": [
      "Learning the transition and observation matrix ...\n",
      "warning: function /home/panas1989/Desktop/gitRepositories/POMDPLearn/BNT/graph/test.m shadows a core library function\n",
      "warning: function /home/panas1989/Desktop/gitRepositories/POMDPLearn/BNT/KPMtools/strsplit.m shadows a core library function\n",
      "warning: function /home/panas1989/Desktop/gitRepositories/POMDPLearn/BNT/KPMtools/factorial.m shadows a core library function\n",
      "warning: function /home/panas1989/Desktop/gitRepositories/POMDPLearn/BNT/KPMtools/chi2inv.m shadows a core library function\n",
      "warning: isstr is obsolete and will be removed from a future version of Octave, please use ischar instead\n",
      "EM iteration 1, loglik = -13279.5967\n",
      "EM iteration 2, loglik = -7191.6483\n",
      "EM iteration 3, loglik = -7191.6483\n",
      "Learning the state rewards ...\n",
      "Learning the transition matrix of the action MDP ... \n",
      "\n",
      "EM iteration 1, loglik = -2379.8369\n",
      "EM iteration 2, loglik = -556.4701\n",
      "EM iteration 3, loglik = -556.4701\n",
      "Learning the action rewards ... \n",
      "\n",
      "Using the multiplicative model to learn state action pair rewards ...\n"
     ]
    }
   ],
   "source": [
    "pomdpPark.trainPOMDP(POMDPDataset=pomdp_train_dataset)"
   ]
  },
  {
   "cell_type": "markdown",
   "metadata": {},
   "source": [
    "### Solving the POMDP model to obtain alpha vectors"
   ]
  },
  {
   "cell_type": "code",
   "execution_count": 10,
   "metadata": {},
   "outputs": [
    {
     "name": "stdout",
     "output_type": "stream",
     "text": [
      "POMDP solved!\n"
     ]
    }
   ],
   "source": [
    "pomdpPark.POMDPSolve()"
   ]
  },
  {
   "cell_type": "code",
   "execution_count": 11,
   "metadata": {},
   "outputs": [
    {
     "name": "stdout",
     "output_type": "stream",
     "text": [
      "Action of No medication:  0\n",
      "Vector:  [10.69512288  8.686135    8.98938883]\n",
      "Action of Medication:  1\n",
      "Vector:  [ 8.69512288  7.3786216  10.98938883]\n"
     ]
    }
   ],
   "source": [
    "#the alpha vectors\n",
    "actions = ['No medication','Medication']\n",
    "for i in range(len(pomdpPark.alpha_vectors)):\n",
    "    print('Action of '+actions[i] +': ', \n",
    "          pomdpPark.alpha_vectors[i].action)\n",
    "    print('Vector: ', pomdpPark.alpha_vectors[i].v)"
   ]
  },
  {
   "cell_type": "markdown",
   "metadata": {},
   "source": [
    "## Initial Belief model - Naive Bayes"
   ]
  },
  {
   "cell_type": "code",
   "execution_count": 12,
   "metadata": {},
   "outputs": [],
   "source": [
    "from sklearn.naive_bayes import GaussianNB\n",
    "\n",
    "cols = ['age','Gender', 'Parkinsons', 'Tremors']\n",
    "\n",
    "X_train = dfTrain[cols].values\n",
    "y_train = dfTrain['medication'].values\n",
    "\n",
    "#initial belief model\n",
    "gnb = GaussianNB()\n",
    "clf = gnb.fit(X_train, y_train)\n",
    "\n",
    "pomdp_train_dataset.initial_belief_model = clf\n",
    "pomdp_train_dataset.baseline_features = cols\n",
    "\n",
    "#probability of medication\n",
    "y_prob = clf.predict_proba(X_train)[:,1]\n",
    "\n",
    "#initial beliefs of each individual\n",
    "pomdp_train_dataset.initial_beliefs = np.vstack((np.vstack((1-y_prob,np.zeros(len(dfTrain)))),y_prob)).T"
   ]
  },
  {
   "cell_type": "markdown",
   "metadata": {},
   "source": [
    "### Getting POMDP recommended actions and updated beliefs over horizon"
   ]
  },
  {
   "cell_type": "code",
   "execution_count": 13,
   "metadata": {},
   "outputs": [],
   "source": [
    "rec_actions,updated_beliefs = pomdpPark.getRecActions(POMDPDataset=pomdp_train_dataset)"
   ]
  },
  {
   "cell_type": "code",
   "execution_count": 14,
   "metadata": {},
   "outputs": [
    {
     "data": {
      "text/plain": [
       "0.8673469387755102"
      ]
     },
     "execution_count": 14,
     "metadata": {},
     "output_type": "execute_result"
    }
   ],
   "source": [
    "## accuracy of finding who was using medication or not in training set\n",
    "\n",
    "from sklearn.metrics import accuracy_score\n",
    "\n",
    "y_true = dfTrain.medication.values\n",
    "y_pred = (np.sum(rec_actions,axis=1)>0)*1\n",
    "\n",
    "accuracy_score(y_true, y_pred)"
   ]
  },
  {
   "cell_type": "markdown",
   "metadata": {},
   "source": [
    "## Test set"
   ]
  },
  {
   "cell_type": "code",
   "execution_count": 15,
   "metadata": {},
   "outputs": [],
   "source": [
    "X_test = dfTest[pomdp_train_dataset.baseline_features].values\n",
    "y_test = dfTest['medication'].values\n",
    "\n",
    "#probability of medication\n",
    "y_prob = pomdp_train_dataset.initial_belief_model.predict_proba(X_test)[:,1]\n",
    "\n",
    "#test set initial beliefs\n",
    "pomdp_test_dataset.initial_beliefs = np.vstack((np.vstack((1-y_prob,np.zeros(len(dfTest)))),y_prob)).T"
   ]
  },
  {
   "cell_type": "markdown",
   "metadata": {},
   "source": [
    "### Getting POMDP recommended actions and updated beliefs over horizon"
   ]
  },
  {
   "cell_type": "code",
   "execution_count": 16,
   "metadata": {},
   "outputs": [],
   "source": [
    "rec_actions,updated_beliefs = pomdpPark.getRecActions(POMDPDataset=pomdp_test_dataset)"
   ]
  },
  {
   "cell_type": "code",
   "execution_count": 17,
   "metadata": {},
   "outputs": [
    {
     "data": {
      "text/plain": [
       "0.8469387755102041"
      ]
     },
     "execution_count": 17,
     "metadata": {},
     "output_type": "execute_result"
    }
   ],
   "source": [
    "## accuracy of finding who was using medication or not in training set\n",
    "\n",
    "from sklearn.metrics import accuracy_score\n",
    "\n",
    "y_true = dfTest.medication.values\n",
    "y_pred = (np.sum(rec_actions,axis=1)>0)*1\n",
    "\n",
    "accuracy_score(y_true, y_pred)"
   ]
  },
  {
   "cell_type": "markdown",
   "metadata": {},
   "source": [
    "# Analysis of results\n",
    "\n",
    "- Analyzing the true actions vs the recommended actions"
   ]
  },
  {
   "cell_type": "code",
   "execution_count": 18,
   "metadata": {},
   "outputs": [
    {
     "data": {
      "text/plain": [
       "array([[0, 0, 0, 0, 0, 0, 0, 0, 0, 0, 1, 1, 1, 1, 1, 1, 1, 1, 1, 1],\n",
       "       [0, 0, 0, 0, 0, 0, 0, 0, 0, 0, 1, 1, 1, 1, 1, 1, 1, 1, 1, 1],\n",
       "       [0, 0, 0, 0, 0, 0, 0, 0, 0, 0, 0, 0, 0, 0, 0, 1, 1, 1, 1, 1],\n",
       "       [0, 0, 0, 0, 0, 0, 0, 0, 0, 0, 0, 0, 0, 0, 0, 0, 0, 0, 0, 0],\n",
       "       [0, 0, 0, 0, 0, 0, 0, 0, 0, 0, 1, 1, 1, 1, 1, 1, 1, 1, 1, 1],\n",
       "       [0, 0, 0, 0, 0, 0, 0, 0, 0, 0, 0, 0, 0, 0, 0, 1, 1, 1, 1, 1],\n",
       "       [0, 0, 0, 0, 0, 0, 0, 0, 0, 0, 1, 1, 1, 1, 1, 1, 1, 1, 1, 1],\n",
       "       [0, 0, 0, 0, 0, 0, 0, 0, 0, 0, 1, 1, 1, 1, 1, 1, 1, 1, 1, 1],\n",
       "       [0, 0, 0, 0, 0, 0, 0, 0, 0, 0, 1, 1, 1, 1, 1, 1, 1, 1, 1, 1],\n",
       "       [0, 0, 0, 0, 0, 0, 0, 0, 0, 0, 0, 0, 0, 0, 0, 0, 0, 0, 0, 0]])"
      ]
     },
     "execution_count": 18,
     "metadata": {},
     "output_type": "execute_result"
    }
   ],
   "source": [
    "#true actions\n",
    "pomdp_test_dataset.actions_data[:10,:]"
   ]
  },
  {
   "cell_type": "code",
   "execution_count": 20,
   "metadata": {},
   "outputs": [
    {
     "data": {
      "text/plain": [
       "array([[1, 1, 1, 1, 1, 1, 1, 1, 1, 1, 0, 1, 1, 1, 1, 1, 1, 1, 1, 1],\n",
       "       [1, 1, 1, 1, 1, 1, 1, 0, 0, 0, 0, 0, 0, 1, 1, 1, 0, 0, 0, 0],\n",
       "       [0, 0, 0, 0, 0, 0, 0, 0, 0, 0, 0, 0, 0, 0, 0, 0, 0, 0, 0, 0],\n",
       "       [0, 0, 0, 0, 0, 0, 0, 0, 0, 0, 0, 0, 0, 0, 0, 0, 0, 0, 0, 0],\n",
       "       [1, 1, 1, 1, 1, 1, 1, 1, 1, 0, 0, 0, 0, 0, 0, 0, 0, 0, 0, 0],\n",
       "       [0, 0, 0, 0, 0, 0, 0, 0, 0, 0, 0, 0, 0, 0, 0, 0, 0, 0, 0, 0],\n",
       "       [1, 1, 1, 1, 1, 1, 1, 1, 1, 1, 1, 1, 0, 0, 0, 0, 0, 0, 0, 0],\n",
       "       [1, 1, 1, 1, 1, 0, 0, 0, 0, 0, 0, 0, 0, 0, 0, 0, 0, 0, 0, 0],\n",
       "       [1, 1, 1, 1, 1, 1, 1, 1, 1, 1, 0, 0, 0, 0, 0, 0, 0, 0, 0, 0],\n",
       "       [0, 0, 0, 0, 0, 0, 0, 0, 0, 0, 0, 0, 0, 0, 0, 0, 0, 0, 0, 0]])"
      ]
     },
     "execution_count": 20,
     "metadata": {},
     "output_type": "execute_result"
    }
   ],
   "source": [
    "rec_actions[:10,:20] #PODMPD can suggest an additional action because of last updated belief"
   ]
  },
  {
   "cell_type": "markdown",
   "metadata": {},
   "source": [
    "In the above 10 cases the, all 10 participants were under medication\n",
    "2 of them at the 15th epoch of the horizon and 8 at the 10th.\n",
    "\n",
    "The POMDP model correctly identified 8 out of 10 as needing medication.\n",
    "\n",
    "Interstingly from the ones that are correctly identified the medication is recommended earlier rather than later, meaning that the individuals would benefit from the medication earlier."
   ]
  },
  {
   "cell_type": "code",
   "execution_count": null,
   "metadata": {},
   "outputs": [],
   "source": []
  }
 ],
 "metadata": {
  "kernelspec": {
   "display_name": "Python 3",
   "language": "python",
   "name": "python3"
  },
  "language_info": {
   "codemirror_mode": {
    "name": "ipython",
    "version": 3
   },
   "file_extension": ".py",
   "mimetype": "text/x-python",
   "name": "python",
   "nbconvert_exporter": "python",
   "pygments_lexer": "ipython3",
   "version": "3.7.3"
  }
 },
 "nbformat": 4,
 "nbformat_minor": 2
}
